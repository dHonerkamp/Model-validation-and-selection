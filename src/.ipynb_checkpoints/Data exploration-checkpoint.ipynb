{
 "cells": [
  {
   "cell_type": "markdown",
   "metadata": {},
   "source": [
    "# Setup, globals"
   ]
  },
  {
   "cell_type": "code",
   "execution_count": 1,
   "metadata": {
    "collapsed": true
   },
   "outputs": [],
   "source": [
    "import numpy as np\n",
    "import pandas as pd\n",
    "from matplotlib import pyplot as plt\n",
    "import seaborn as sns"
   ]
  },
  {
   "cell_type": "code",
   "execution_count": 3,
   "metadata": {
    "collapsed": true
   },
   "outputs": [],
   "source": [
    "PATH = 'C:/Users/Daniel/Github/Wine quality analysis/'\n",
    "DATA_PATH = PATH + 'data/'\n",
    "pd.options.display.float_format = '{:.3f}'.format"
   ]
  },
  {
   "cell_type": "markdown",
   "metadata": {},
   "source": [
    "# A2 - Data"
   ]
  },
  {
   "cell_type": "code",
   "execution_count": 4,
   "metadata": {},
   "outputs": [
    {
     "name": "stdout",
     "output_type": "stream",
     "text": [
      "(1599, 13) (4898, 13)\n",
      "Share red: 0.33\n"
     ]
    }
   ],
   "source": [
    "red = pd.read_csv(DATA_PATH + 'winequality-red.csv', sep=';')\n",
    "white = pd.read_csv(DATA_PATH + 'winequality-white.csv', sep=';')\n",
    "\n",
    "red['red'] = 1\n",
    "white['red'] = 0\n",
    "\n",
    "print(red.shape, white.shape)\n",
    "print('Share red: {:.2f}'.format(red.shape[0]/white.shape[0]))"
   ]
  },
  {
   "cell_type": "markdown",
   "metadata": {},
   "source": [
    "Note the imbalance: only 33% are red wines"
   ]
  },
  {
   "cell_type": "code",
   "execution_count": 5,
   "metadata": {
    "scrolled": true
   },
   "outputs": [
    {
     "data": {
      "text/html": [
       "<div>\n",
       "<style>\n",
       "    .dataframe thead tr:only-child th {\n",
       "        text-align: right;\n",
       "    }\n",
       "\n",
       "    .dataframe thead th {\n",
       "        text-align: left;\n",
       "    }\n",
       "\n",
       "    .dataframe tbody tr th {\n",
       "        vertical-align: top;\n",
       "    }\n",
       "</style>\n",
       "<table border=\"1\" class=\"dataframe\">\n",
       "  <thead>\n",
       "    <tr style=\"text-align: right;\">\n",
       "      <th></th>\n",
       "      <th>fixed acidity</th>\n",
       "      <th>volatile acidity</th>\n",
       "      <th>citric acid</th>\n",
       "      <th>residual sugar</th>\n",
       "      <th>chlorides</th>\n",
       "      <th>free sulfur dioxide</th>\n",
       "      <th>total sulfur dioxide</th>\n",
       "      <th>density</th>\n",
       "      <th>pH</th>\n",
       "      <th>sulphates</th>\n",
       "      <th>alcohol</th>\n",
       "      <th>quality</th>\n",
       "      <th>red</th>\n",
       "    </tr>\n",
       "  </thead>\n",
       "  <tbody>\n",
       "    <tr>\n",
       "      <th>0</th>\n",
       "      <td>7.400</td>\n",
       "      <td>0.700</td>\n",
       "      <td>0.000</td>\n",
       "      <td>1.900</td>\n",
       "      <td>0.076</td>\n",
       "      <td>11.000</td>\n",
       "      <td>34.000</td>\n",
       "      <td>0.998</td>\n",
       "      <td>3.510</td>\n",
       "      <td>0.560</td>\n",
       "      <td>9.400</td>\n",
       "      <td>5</td>\n",
       "      <td>1</td>\n",
       "    </tr>\n",
       "    <tr>\n",
       "      <th>1</th>\n",
       "      <td>7.800</td>\n",
       "      <td>0.880</td>\n",
       "      <td>0.000</td>\n",
       "      <td>2.600</td>\n",
       "      <td>0.098</td>\n",
       "      <td>25.000</td>\n",
       "      <td>67.000</td>\n",
       "      <td>0.997</td>\n",
       "      <td>3.200</td>\n",
       "      <td>0.680</td>\n",
       "      <td>9.800</td>\n",
       "      <td>5</td>\n",
       "      <td>1</td>\n",
       "    </tr>\n",
       "    <tr>\n",
       "      <th>2</th>\n",
       "      <td>7.800</td>\n",
       "      <td>0.760</td>\n",
       "      <td>0.040</td>\n",
       "      <td>2.300</td>\n",
       "      <td>0.092</td>\n",
       "      <td>15.000</td>\n",
       "      <td>54.000</td>\n",
       "      <td>0.997</td>\n",
       "      <td>3.260</td>\n",
       "      <td>0.650</td>\n",
       "      <td>9.800</td>\n",
       "      <td>5</td>\n",
       "      <td>1</td>\n",
       "    </tr>\n",
       "    <tr>\n",
       "      <th>3</th>\n",
       "      <td>11.200</td>\n",
       "      <td>0.280</td>\n",
       "      <td>0.560</td>\n",
       "      <td>1.900</td>\n",
       "      <td>0.075</td>\n",
       "      <td>17.000</td>\n",
       "      <td>60.000</td>\n",
       "      <td>0.998</td>\n",
       "      <td>3.160</td>\n",
       "      <td>0.580</td>\n",
       "      <td>9.800</td>\n",
       "      <td>6</td>\n",
       "      <td>1</td>\n",
       "    </tr>\n",
       "    <tr>\n",
       "      <th>4</th>\n",
       "      <td>7.400</td>\n",
       "      <td>0.700</td>\n",
       "      <td>0.000</td>\n",
       "      <td>1.900</td>\n",
       "      <td>0.076</td>\n",
       "      <td>11.000</td>\n",
       "      <td>34.000</td>\n",
       "      <td>0.998</td>\n",
       "      <td>3.510</td>\n",
       "      <td>0.560</td>\n",
       "      <td>9.400</td>\n",
       "      <td>5</td>\n",
       "      <td>1</td>\n",
       "    </tr>\n",
       "  </tbody>\n",
       "</table>\n",
       "</div>"
      ],
      "text/plain": [
       "   fixed acidity  volatile acidity  citric acid  residual sugar  chlorides  \\\n",
       "0          7.400             0.700        0.000           1.900      0.076   \n",
       "1          7.800             0.880        0.000           2.600      0.098   \n",
       "2          7.800             0.760        0.040           2.300      0.092   \n",
       "3         11.200             0.280        0.560           1.900      0.075   \n",
       "4          7.400             0.700        0.000           1.900      0.076   \n",
       "\n",
       "   free sulfur dioxide  total sulfur dioxide  density    pH  sulphates  \\\n",
       "0               11.000                34.000    0.998 3.510      0.560   \n",
       "1               25.000                67.000    0.997 3.200      0.680   \n",
       "2               15.000                54.000    0.997 3.260      0.650   \n",
       "3               17.000                60.000    0.998 3.160      0.580   \n",
       "4               11.000                34.000    0.998 3.510      0.560   \n",
       "\n",
       "   alcohol  quality  red  \n",
       "0    9.400        5    1  \n",
       "1    9.800        5    1  \n",
       "2    9.800        5    1  \n",
       "3    9.800        6    1  \n",
       "4    9.400        5    1  "
      ]
     },
     "execution_count": 5,
     "metadata": {},
     "output_type": "execute_result"
    }
   ],
   "source": [
    "red.head()"
   ]
  },
  {
   "cell_type": "code",
   "execution_count": 6,
   "metadata": {},
   "outputs": [
    {
     "data": {
      "text/html": [
       "<div>\n",
       "<style>\n",
       "    .dataframe thead tr:only-child th {\n",
       "        text-align: right;\n",
       "    }\n",
       "\n",
       "    .dataframe thead th {\n",
       "        text-align: left;\n",
       "    }\n",
       "\n",
       "    .dataframe tbody tr th {\n",
       "        vertical-align: top;\n",
       "    }\n",
       "</style>\n",
       "<table border=\"1\" class=\"dataframe\">\n",
       "  <thead>\n",
       "    <tr style=\"text-align: right;\">\n",
       "      <th></th>\n",
       "      <th>fixed acidity</th>\n",
       "      <th>volatile acidity</th>\n",
       "      <th>citric acid</th>\n",
       "      <th>residual sugar</th>\n",
       "      <th>chlorides</th>\n",
       "      <th>free sulfur dioxide</th>\n",
       "      <th>total sulfur dioxide</th>\n",
       "      <th>density</th>\n",
       "      <th>pH</th>\n",
       "      <th>sulphates</th>\n",
       "      <th>alcohol</th>\n",
       "      <th>quality</th>\n",
       "      <th>red</th>\n",
       "    </tr>\n",
       "  </thead>\n",
       "  <tbody>\n",
       "    <tr>\n",
       "      <th>0</th>\n",
       "      <td>7.000</td>\n",
       "      <td>0.270</td>\n",
       "      <td>0.360</td>\n",
       "      <td>20.700</td>\n",
       "      <td>0.045</td>\n",
       "      <td>45.000</td>\n",
       "      <td>170.000</td>\n",
       "      <td>1.001</td>\n",
       "      <td>3.000</td>\n",
       "      <td>0.450</td>\n",
       "      <td>8.800</td>\n",
       "      <td>6</td>\n",
       "      <td>0</td>\n",
       "    </tr>\n",
       "    <tr>\n",
       "      <th>1</th>\n",
       "      <td>6.300</td>\n",
       "      <td>0.300</td>\n",
       "      <td>0.340</td>\n",
       "      <td>1.600</td>\n",
       "      <td>0.049</td>\n",
       "      <td>14.000</td>\n",
       "      <td>132.000</td>\n",
       "      <td>0.994</td>\n",
       "      <td>3.300</td>\n",
       "      <td>0.490</td>\n",
       "      <td>9.500</td>\n",
       "      <td>6</td>\n",
       "      <td>0</td>\n",
       "    </tr>\n",
       "    <tr>\n",
       "      <th>2</th>\n",
       "      <td>8.100</td>\n",
       "      <td>0.280</td>\n",
       "      <td>0.400</td>\n",
       "      <td>6.900</td>\n",
       "      <td>0.050</td>\n",
       "      <td>30.000</td>\n",
       "      <td>97.000</td>\n",
       "      <td>0.995</td>\n",
       "      <td>3.260</td>\n",
       "      <td>0.440</td>\n",
       "      <td>10.100</td>\n",
       "      <td>6</td>\n",
       "      <td>0</td>\n",
       "    </tr>\n",
       "    <tr>\n",
       "      <th>3</th>\n",
       "      <td>7.200</td>\n",
       "      <td>0.230</td>\n",
       "      <td>0.320</td>\n",
       "      <td>8.500</td>\n",
       "      <td>0.058</td>\n",
       "      <td>47.000</td>\n",
       "      <td>186.000</td>\n",
       "      <td>0.996</td>\n",
       "      <td>3.190</td>\n",
       "      <td>0.400</td>\n",
       "      <td>9.900</td>\n",
       "      <td>6</td>\n",
       "      <td>0</td>\n",
       "    </tr>\n",
       "    <tr>\n",
       "      <th>4</th>\n",
       "      <td>7.200</td>\n",
       "      <td>0.230</td>\n",
       "      <td>0.320</td>\n",
       "      <td>8.500</td>\n",
       "      <td>0.058</td>\n",
       "      <td>47.000</td>\n",
       "      <td>186.000</td>\n",
       "      <td>0.996</td>\n",
       "      <td>3.190</td>\n",
       "      <td>0.400</td>\n",
       "      <td>9.900</td>\n",
       "      <td>6</td>\n",
       "      <td>0</td>\n",
       "    </tr>\n",
       "  </tbody>\n",
       "</table>\n",
       "</div>"
      ],
      "text/plain": [
       "   fixed acidity  volatile acidity  citric acid  residual sugar  chlorides  \\\n",
       "0          7.000             0.270        0.360          20.700      0.045   \n",
       "1          6.300             0.300        0.340           1.600      0.049   \n",
       "2          8.100             0.280        0.400           6.900      0.050   \n",
       "3          7.200             0.230        0.320           8.500      0.058   \n",
       "4          7.200             0.230        0.320           8.500      0.058   \n",
       "\n",
       "   free sulfur dioxide  total sulfur dioxide  density    pH  sulphates  \\\n",
       "0               45.000               170.000    1.001 3.000      0.450   \n",
       "1               14.000               132.000    0.994 3.300      0.490   \n",
       "2               30.000                97.000    0.995 3.260      0.440   \n",
       "3               47.000               186.000    0.996 3.190      0.400   \n",
       "4               47.000               186.000    0.996 3.190      0.400   \n",
       "\n",
       "   alcohol  quality  red  \n",
       "0    8.800        6    0  \n",
       "1    9.500        6    0  \n",
       "2   10.100        6    0  \n",
       "3    9.900        6    0  \n",
       "4    9.900        6    0  "
      ]
     },
     "execution_count": 6,
     "metadata": {},
     "output_type": "execute_result"
    }
   ],
   "source": [
    "white.head()"
   ]
  },
  {
   "cell_type": "code",
   "execution_count": 7,
   "metadata": {},
   "outputs": [
    {
     "name": "stdout",
     "output_type": "stream",
     "text": [
      "(6497, 13)\n"
     ]
    },
    {
     "data": {
      "text/html": [
       "<div>\n",
       "<style>\n",
       "    .dataframe thead tr:only-child th {\n",
       "        text-align: right;\n",
       "    }\n",
       "\n",
       "    .dataframe thead th {\n",
       "        text-align: left;\n",
       "    }\n",
       "\n",
       "    .dataframe tbody tr th {\n",
       "        vertical-align: top;\n",
       "    }\n",
       "</style>\n",
       "<table border=\"1\" class=\"dataframe\">\n",
       "  <thead>\n",
       "    <tr style=\"text-align: right;\">\n",
       "      <th></th>\n",
       "      <th>fixed acidity</th>\n",
       "      <th>volatile acidity</th>\n",
       "      <th>citric acid</th>\n",
       "      <th>residual sugar</th>\n",
       "      <th>chlorides</th>\n",
       "      <th>free sulfur dioxide</th>\n",
       "      <th>total sulfur dioxide</th>\n",
       "      <th>density</th>\n",
       "      <th>pH</th>\n",
       "      <th>sulphates</th>\n",
       "      <th>alcohol</th>\n",
       "      <th>quality</th>\n",
       "      <th>red</th>\n",
       "    </tr>\n",
       "  </thead>\n",
       "  <tbody>\n",
       "    <tr>\n",
       "      <th>0</th>\n",
       "      <td>7.400</td>\n",
       "      <td>0.700</td>\n",
       "      <td>0.000</td>\n",
       "      <td>1.900</td>\n",
       "      <td>0.076</td>\n",
       "      <td>11.000</td>\n",
       "      <td>34.000</td>\n",
       "      <td>0.998</td>\n",
       "      <td>3.510</td>\n",
       "      <td>0.560</td>\n",
       "      <td>9.400</td>\n",
       "      <td>5</td>\n",
       "      <td>1</td>\n",
       "    </tr>\n",
       "    <tr>\n",
       "      <th>1</th>\n",
       "      <td>7.800</td>\n",
       "      <td>0.880</td>\n",
       "      <td>0.000</td>\n",
       "      <td>2.600</td>\n",
       "      <td>0.098</td>\n",
       "      <td>25.000</td>\n",
       "      <td>67.000</td>\n",
       "      <td>0.997</td>\n",
       "      <td>3.200</td>\n",
       "      <td>0.680</td>\n",
       "      <td>9.800</td>\n",
       "      <td>5</td>\n",
       "      <td>1</td>\n",
       "    </tr>\n",
       "    <tr>\n",
       "      <th>2</th>\n",
       "      <td>7.800</td>\n",
       "      <td>0.760</td>\n",
       "      <td>0.040</td>\n",
       "      <td>2.300</td>\n",
       "      <td>0.092</td>\n",
       "      <td>15.000</td>\n",
       "      <td>54.000</td>\n",
       "      <td>0.997</td>\n",
       "      <td>3.260</td>\n",
       "      <td>0.650</td>\n",
       "      <td>9.800</td>\n",
       "      <td>5</td>\n",
       "      <td>1</td>\n",
       "    </tr>\n",
       "    <tr>\n",
       "      <th>3</th>\n",
       "      <td>11.200</td>\n",
       "      <td>0.280</td>\n",
       "      <td>0.560</td>\n",
       "      <td>1.900</td>\n",
       "      <td>0.075</td>\n",
       "      <td>17.000</td>\n",
       "      <td>60.000</td>\n",
       "      <td>0.998</td>\n",
       "      <td>3.160</td>\n",
       "      <td>0.580</td>\n",
       "      <td>9.800</td>\n",
       "      <td>6</td>\n",
       "      <td>1</td>\n",
       "    </tr>\n",
       "    <tr>\n",
       "      <th>4</th>\n",
       "      <td>7.400</td>\n",
       "      <td>0.700</td>\n",
       "      <td>0.000</td>\n",
       "      <td>1.900</td>\n",
       "      <td>0.076</td>\n",
       "      <td>11.000</td>\n",
       "      <td>34.000</td>\n",
       "      <td>0.998</td>\n",
       "      <td>3.510</td>\n",
       "      <td>0.560</td>\n",
       "      <td>9.400</td>\n",
       "      <td>5</td>\n",
       "      <td>1</td>\n",
       "    </tr>\n",
       "  </tbody>\n",
       "</table>\n",
       "</div>"
      ],
      "text/plain": [
       "   fixed acidity  volatile acidity  citric acid  residual sugar  chlorides  \\\n",
       "0          7.400             0.700        0.000           1.900      0.076   \n",
       "1          7.800             0.880        0.000           2.600      0.098   \n",
       "2          7.800             0.760        0.040           2.300      0.092   \n",
       "3         11.200             0.280        0.560           1.900      0.075   \n",
       "4          7.400             0.700        0.000           1.900      0.076   \n",
       "\n",
       "   free sulfur dioxide  total sulfur dioxide  density    pH  sulphates  \\\n",
       "0               11.000                34.000    0.998 3.510      0.560   \n",
       "1               25.000                67.000    0.997 3.200      0.680   \n",
       "2               15.000                54.000    0.997 3.260      0.650   \n",
       "3               17.000                60.000    0.998 3.160      0.580   \n",
       "4               11.000                34.000    0.998 3.510      0.560   \n",
       "\n",
       "   alcohol  quality  red  \n",
       "0    9.400        5    1  \n",
       "1    9.800        5    1  \n",
       "2    9.800        5    1  \n",
       "3    9.800        6    1  \n",
       "4    9.400        5    1  "
      ]
     },
     "execution_count": 7,
     "metadata": {},
     "output_type": "execute_result"
    }
   ],
   "source": [
    "wine = pd.concat([red, white])\n",
    "n_obs, n_vars = wine.shape\n",
    "print(wine.shape)\n",
    "wine.head()"
   ]
  },
  {
   "cell_type": "code",
   "execution_count": 8,
   "metadata": {
    "collapsed": true
   },
   "outputs": [],
   "source": [
    "wine.to_csv(DATA_PATH + 'wines_combined.csv', index=False)"
   ]
  },
  {
   "cell_type": "markdown",
   "metadata": {},
   "source": [
    "# A3 - Exploratory Analysis "
   ]
  },
  {
   "cell_type": "markdown",
   "metadata": {},
   "source": [
    "### Summary Statistics"
   ]
  },
  {
   "cell_type": "code",
   "execution_count": null,
   "metadata": {
    "scrolled": true
   },
   "outputs": [],
   "source": [
    "wine.describe()"
   ]
  },
  {
   "cell_type": "markdown",
   "metadata": {},
   "source": [
    "- The majority of the wines are white: 24.6% are red\n",
    "- No missings\n",
    "- large range of values -> might need scaling for some estimators\n",
    "- Including quality and the new create 'red' variable we have 13 variables"
   ]
  },
  {
   "cell_type": "code",
   "execution_count": null,
   "metadata": {},
   "outputs": [],
   "source": [
    "# quality per wine\n",
    "table = pd.crosstab(index = wine['quality'], columns=wine[\"red\"])\n",
    "table = table / [n_obs - wine['red'].sum(), wine['red'].sum()]\n",
    "table['diff'] = table[0] - table[1]\n",
    "table"
   ]
  },
  {
   "cell_type": "markdown",
   "metadata": {},
   "source": [
    "- No wines ranked 1 or 2\n",
    "- barely any wine ranked 9 or 3, most between 5 and 7\n",
    "    - Important for creating a new best wine: barely any data on what makes great wine\n",
    "- generally class imbalance\n",
    "- white wines overall ranked higher -> quantifiable?\n",
    "- ttest only if quality normally distributed!"
   ]
  },
  {
   "cell_type": "code",
   "execution_count": null,
   "metadata": {},
   "outputs": [],
   "source": [
    "print(wine.groupby('red')['quality'].mean())\n",
    "from scipy import stats\n",
    "stats.ttest_ind(wine[wine['red']==0]['quality'], wine[wine['red']==1]['quality'])"
   ]
  },
  {
   "cell_type": "code",
   "execution_count": null,
   "metadata": {},
   "outputs": [],
   "source": [
    "def qq_plot(a):\n",
    "    b = np.random.normal(a.mean(),a.std(),a.shape[0])\n",
    "    \n",
    "    percs = np.linspace(0,100,21)\n",
    "    qn_a = np.percentile(a, percs)\n",
    "    qn_b = np.percentile(b, percs)\n",
    "\n",
    "    plt.plot(qn_a,qn_b, ls=\"\", marker=\"o\")\n",
    "\n",
    "    x = np.linspace(np.min((qn_a.min(),qn_b.min())), np.max((qn_a.max(),qn_b.max())))\n",
    "    plt.plot(x,x, color=\"k\", ls=\"--\")\n",
    "\n",
    "    \n",
    "plt.subplot(121)    \n",
    "qq_plot(np.sort(wine['quality'][wine['red']==0]))\n",
    "plt.title('white')\n",
    "plt.subplot(122)    \n",
    "qq_plot(np.sort(wine['quality'][wine['red']==1]))\n",
    "plt.title('red')"
   ]
  },
  {
   "cell_type": "markdown",
   "metadata": {},
   "source": [
    "### Distributions"
   ]
  },
  {
   "cell_type": "code",
   "execution_count": null,
   "metadata": {
    "collapsed": true,
    "scrolled": false
   },
   "outputs": [],
   "source": [
    "#f, ax = plt.subplots(6,4, figsize=(16,24))\n",
    "#for i, var in enumerate(wine.columns):\n",
    "#    if var != 'red':\n",
    "#        sns.distplot(wine[wine['red']==0][var], ax=ax.reshape([12,2])[i,0], label='white').set_title(var)\n",
    "#        sns.distplot(wine[wine['red']==1][var], ax=ax.reshape([12,2])[i,0], label='red')\n",
    "#        ax.reshape([12,2])[i,0].legend()\n",
    "#        for q in range(1,10):\n",
    "#            if wine[wine['quality']==q].any().any():\n",
    "#                sns.kdeplot(wine[wine['quality']==q][var], \n",
    "#                             ax=ax.reshape([12,2])[i,1], \n",
    "#                             label=str(q)).set_title(var)\n",
    "#        ax.reshape([12,2])[i,1].legend()\n",
    "#\n",
    "#f.tight_layout()"
   ]
  },
  {
   "cell_type": "markdown",
   "metadata": {},
   "source": [
    "We start off by looking at the distributions of the different variables, both by wine type and by quality. Note that the kde estimates can be misleading for the categories with only few observations (i.e. quality 3,4,8,9)\n",
    "\n",
    "Findings:\n",
    "- The distributions generally differ quite a lot across wine colors. This ist most pronounced (but not limited to) for:\n",
    "    - volatile acidity, residual sugar, chlorides, total sulfur dioxide, pH, sulphates.\n",
    "    - Only alcohol seems fairly similar\n",
    "- alcohol appears to be truncated on the left, which makes sense considering the nature of wines.\n",
    "- a number of variables seem to be quite skewed (at least when considered by color):\n",
    "    - fixed acidity\n",
    "    - volatile acidity\n",
    "    - residual sugar\n",
    "    - chlorides\n",
    "    - free & total sulfur dioxide\n",
    "    - sulphates\n",
    "    - quantification: include skeweness stats?\n",
    "- Per quality it is harder to get a clear picture. We find most differences for:\n",
    "    - volatile acidity (red)\n",
    "    - citric acid (red)\n",
    "    - sulphates (red)\n",
    "    - alcohol\n",
    "    - white wines ranked 9 are quite conspicuous, but as these are so few examples let's not draw conclusions"
   ]
  },
  {
   "cell_type": "code",
   "execution_count": null,
   "metadata": {},
   "outputs": [],
   "source": [
    "skew_all = np.expand_dims(stats.skew(wine), axis=0)\n",
    "skew_white = np.expand_dims(stats.skew(wine[wine['red'] == 0]), axis=0)\n",
    "skew_red = np.expand_dims(stats.skew(wine[wine['red'] == 1]), axis=0)\n",
    "table_skewed = pd.DataFrame(np.concatenate([skew_all, skew_white, skew_red], axis=0), \n",
    "                     columns = wine.columns, \n",
    "                     index = ['all', 'white', 'red'])\n",
    "display(table_skewed)\n",
    "\n",
    "vars_skewed = ['fixed acidity', 'volatile acidity', 'residual sugar', 'chlorides', 'free sulfur dioxide', 'total sulfur dioxide', 'sulphates']"
   ]
  },
  {
   "cell_type": "code",
   "execution_count": null,
   "metadata": {
    "scrolled": true
   },
   "outputs": [],
   "source": [
    "# SAME SEPERATED FOR WHITE AND RED\n",
    "# kde MISSLEADING FOR CLASSES WITH FEW OBSERVATIONS!\n",
    "f, ax = plt.subplots(12,3, figsize=(10,40))\n",
    "for i, var in enumerate(wine.columns):\n",
    "    if var not in  ['red', 'quality']:\n",
    "        w = wine[wine['red'] == 0]\n",
    "        r = wine[wine['red'] == 1]\n",
    "        \n",
    "        sns.kdeplot(wine[var], ax=ax[i,0], label='wine')\n",
    "        sns.distplot(w[var], ax=ax[i,0], label='white').set_title(var)\n",
    "        sns.distplot(r[var], ax=ax[i,0], label='red')\n",
    "        ax[i,0].legend()\n",
    "        \n",
    "        for q in range(1,10):\n",
    "            if w[w['quality']==q].any().any():\n",
    "                sns.kdeplot(w[w['quality']==q][var], \n",
    "                             ax=ax[i,1], \n",
    "                             label=str(q)).set_title('white: ' + var)\n",
    "            if r[r['quality']==q].any().any():\n",
    "                sns.kdeplot(r[r['quality']==q][var], \n",
    "                             ax=ax[i,2], \n",
    "                             label=str(q)).set_title('red: ' + var)\n",
    "                \n",
    "        ax[i,1].legend()\n",
    "        ax[i,2].legend()\n",
    "            \n",
    "    if var == 'quality':\n",
    "        #sns.kdeplot(wine[var], ax=ax[i,0], label='wine')\n",
    "        sns.distplot(w[var], ax=ax[i,0], label='white', kde=False, bins=[1,2,3,4,5,6,7,8,9]).set_title(var)\n",
    "        sns.distplot(r[var], ax=ax[i,0], label='red', kde=False, bins=[1,2,3,4,5,6,7,8,9])\n",
    "    \n",
    "        ax[i,0].legend()\n",
    "        \n",
    "\n",
    "\n",
    "f.tight_layout()"
   ]
  },
  {
   "cell_type": "markdown",
   "metadata": {},
   "source": [
    "Let's compare the log distributions for the skewed ones"
   ]
  },
  {
   "cell_type": "code",
   "execution_count": null,
   "metadata": {
    "scrolled": false
   },
   "outputs": [],
   "source": [
    "# compare with log\n",
    "wine_log = np.log(wine)\n",
    "wine_log[['red', 'quality']] = wine[['red', 'quality']]\n",
    "wine_log['citric acid'] = np.log1p(wine['citric acid'])\n",
    "\n",
    "\n",
    "f, ax = plt.subplots(len(vars_skewed),2, figsize=(7,20))\n",
    "for i, var in enumerate(vars_skewed):\n",
    "    if var not in  ['red', 'quality']:\n",
    "        sns.kdeplot(wine[wine['red']==0][var], ax=ax[i,0], label='white').set_title(var)\n",
    "        sns.kdeplot(wine[wine['red']==1][var], ax=ax[i,0], label='red')\n",
    "    \n",
    "        sns.kdeplot(wine_log[wine['red']==0][var], ax=ax[i,1], label='white').set_title('log: ' + var)\n",
    "        sns.kdeplot(wine_log[wine['red']==1][var], ax=ax[i,1], label='red')\n",
    "f.tight_layout()\n",
    "f.show()"
   ]
  },
  {
   "cell_type": "markdown",
   "metadata": {},
   "source": [
    "By eye log helps for skewness in:\n",
    "    - volatile acidity\n",
    "    - chlorides\n",
    "    - maybe free & total sulfur dioxide\n",
    "    - maybe sulphates\n",
    "    - not sure for residual sugar\n",
    "    \n",
    "By table log helps for skewness in:  \n",
    "    - fixed acidity\n",
    "    - volatile acidity\n",
    "    - residual sugar\n",
    "    - chlorides\n",
    "    - sulpahtes"
   ]
  },
  {
   "cell_type": "code",
   "execution_count": null,
   "metadata": {},
   "outputs": [],
   "source": [
    "skew_all = np.expand_dims(stats.skew(wine_log), axis=0)\n",
    "skew_white = np.expand_dims(stats.skew(wine_log[wine['red'] == 0]), axis=0)\n",
    "skew_red = np.expand_dims(stats.skew(wine_log[wine['red'] == 1]), axis=0)\n",
    "table_skewed_log = pd.DataFrame(np.concatenate([skew_all, skew_white, skew_red], axis=0), \n",
    "                     columns = wine.columns, \n",
    "                     index = ['all - log', 'white - log', 'red - log'])\n",
    "display(table_skewed.append(table_skewed_log))"
   ]
  },
  {
   "cell_type": "code",
   "execution_count": null,
   "metadata": {
    "collapsed": true
   },
   "outputs": [],
   "source": [
    "# add the selected log vars to the df, to include in further exploration\n",
    "to_transform = ['fixed acidity','volatile acidity','residual sugar','chlorides','sulphates']\n",
    "wine = wine.join(wine_log[to_transform], rsuffix='_log')\n",
    "wine = wine.sort_index(axis=1)\n",
    "\n",
    "wine = wine.drop(to_transform, axis=1)"
   ]
  },
  {
   "cell_type": "markdown",
   "metadata": {},
   "source": [
    "### Correlations "
   ]
  },
  {
   "cell_type": "code",
   "execution_count": null,
   "metadata": {
    "scrolled": false
   },
   "outputs": [],
   "source": [
    "corrs = wine.corr()\n",
    "mask = np.zeros_like(corrs, dtype=np.bool)\n",
    "mask[np.triu_indices_from(mask)] = True\n",
    "cmap = sns.diverging_palette(220, 10, as_cmap=True)\n",
    "\n",
    "plt.figure(figsize=(10,10))\n",
    "sns.heatmap(corrs, mask = mask, cmap = cmap, annot=True, fmt=\".2f\");"
   ]
  },
  {
   "cell_type": "markdown",
   "metadata": {},
   "source": [
    "- no collinearity\n",
    "- strong negative correlations between:\n",
    "    - red & total sulfur dioxide, \n",
    "    - density & alcohol, \n",
    "- high positive between:\n",
    "    - volatile acidity & red \n",
    "    - total & free sulfur dioxide (around -0.7 / 0.7)"
   ]
  },
  {
   "cell_type": "code",
   "execution_count": null,
   "metadata": {},
   "outputs": [],
   "source": [
    "def corrank(X):\n",
    "    import itertools\n",
    "    df = pd.DataFrame([[(i,j),X.corr().loc[i,j]] for i,j in list(itertools.combinations(X.corr(), 2))],columns=['pairs','corr'])    \n",
    "    \n",
    "    return df.sort_values(by='corr',ascending=False)\n",
    "\n",
    "corranks = corrank(wine)\n",
    "selected = corranks[np.abs(corranks['corr']) > 0.4]\n",
    "display(selected)\n",
    "vars_corr = selected['pairs']\n",
    "\n",
    "# drop those only correlated with own log\n",
    "#vars_corr = vars_corr.drop([132, 143, 75, 152, 17, 44]).values\n",
    "vars_corr"
   ]
  },
  {
   "cell_type": "markdown",
   "metadata": {},
   "source": [
    "### Pairsplot "
   ]
  },
  {
   "cell_type": "markdown",
   "metadata": {},
   "source": [
    "Let's look closer at the relationships between certain variables. As the dimensionality is already on the higher side, we focus on the correlated pairs.  \n",
    "ALSO INCLUDE LOG VARS HERE TO DECIDE IF BETTER THAN WITHOUT?"
   ]
  },
  {
   "cell_type": "code",
   "execution_count": null,
   "metadata": {},
   "outputs": [],
   "source": [
    "f, ax = plt.subplots(4,5, figsize=(16,12))\n",
    "for i, (x,y) in enumerate(vars_corr):\n",
    "    if 'red' in [x] or  'quality' in [x]: xjit=0.05\n",
    "    elif 'red' in [y] or 'quality' in [y]: yjit = 0.05\n",
    "    else: yjit, xjit = 0., 0.\n",
    "    sns.regplot(x, y, wine[wine['red']==0], color = 'tab:blue', ax=ax.flatten()[i], fit_reg=False, y_jitter=yjit, x_jitter=xjit, scatter_kws={\"s\": 10})\n",
    "    sns.regplot(x, y, wine[wine['red']==1], color = 'tab:orange', ax=ax.flatten()[i], fit_reg=False, y_jitter=yjit, x_jitter=xjit, scatter_kws={\"s\": 10})\n",
    "f.tight_layout()"
   ]
  },
  {
   "cell_type": "code",
   "execution_count": null,
   "metadata": {
    "collapsed": true,
    "scrolled": true
   },
   "outputs": [],
   "source": [
    "#sns.pairplot(wine, vars = wine.columns[:n_vars//2], hue=\"red\", diag_kind=\"kde\");"
   ]
  },
  {
   "cell_type": "code",
   "execution_count": null,
   "metadata": {
    "collapsed": true,
    "scrolled": false
   },
   "outputs": [],
   "source": [
    "#sns.pairplot(wine, vars=wine.columns[n_vars//2:], hue=\"red\", diag_kind=\"kde\");"
   ]
  },
  {
   "cell_type": "markdown",
   "metadata": {},
   "source": [
    "### Transformations \n",
    "law of mass action:\n",
    "the principle that the rate of a chemical reaction is proportional to the concentrations of the reacting substances."
   ]
  },
  {
   "cell_type": "code",
   "execution_count": null,
   "metadata": {},
   "outputs": [],
   "source": [
    "# ALSO NOTE THE OUTLIERS HERE\n",
    "f, ax = plt.subplots(4,5, figsize=(16,10))\n",
    "for i, var in enumerate(wine.columns):\n",
    "    #sns.regplot(wine[var], wine['quality'], ax=ax.flatten()[i], y_jitter=0.1, fit_reg=False, scatter_kws={\"s\": 10}).set_title(var)\n",
    "    sns.regplot(wine.where(wine['red']==0)[var], wine.where(wine['red']==0)['quality'], color='b', ax=ax.flatten()[i], y_jitter=0.2, fit_reg=False, scatter_kws={\"s\": 10}).set_title(var)\n",
    "    sns.regplot(wine.where(wine['red']==1)[var], wine.where(wine['red']==1)['quality'], color='r', ax=ax.flatten()[i], y_jitter=0.2, fit_reg=False, scatter_kws={\"s\": 10}).set_title(var)\n",
    "f.tight_layout()"
   ]
  },
  {
   "cell_type": "code",
   "execution_count": null,
   "metadata": {
    "scrolled": false
   },
   "outputs": [],
   "source": [
    "for i, var in enumerate(wine.columns):\n",
    "    if var not in ['quality', 'red']:\n",
    "        g = sns.factorplot(x='quality', y=var, data=wine, kind='box', col='red');"
   ]
  },
  {
   "cell_type": "markdown",
   "metadata": {},
   "source": [
    "- relationship differs strongly for white and red wines\n",
    "- many out of range values\n",
    "    - replot with log taken for above identified ones ?\n",
    "- a number of non-linear relationships:\n",
    "    - both: alcohol\n",
    "    - white:\n",
    "        - pH\n",
    "        - volatile acidity\n",
    "    - red:\n",
    "        - total sulfur dioxide\n",
    "        - fixed acidity\n",
    "    \n",
    "- 2 potential outliers: in residual sugar / density and in free sulfur dioxide  \n",
    "    -> run estimation with and without them  \n",
    "    Quantification: more than Q3 + 3*IQ"
   ]
  },
  {
   "cell_type": "code",
   "execution_count": null,
   "metadata": {
    "scrolled": true
   },
   "outputs": [],
   "source": [
    "wine[['free sulfur dioxide', 'residual sugar_log', 'density']].idxmax()"
   ]
  },
  {
   "cell_type": "markdown",
   "metadata": {},
   "source": [
    "### Discussion "
   ]
  },
  {
   "cell_type": "markdown",
   "metadata": {},
   "source": [
    "- Sensible variable transformations?\n",
    "    - especially for concentration as law of mass action is linear in log-concentrations?\n",
    "        - law of mass action:\n",
    "            the principle that the rate of a chemical reaction is proportional to the concentrations of the reacting substances.\n",
    "- collinearity?\n",
    "    - no collinearity, but strong negative correlations between red & total sulfur dioxide, density & alcohol, high positive between volatile acidity & red and total & free sulfur dioxide (around -0.7 / 0.7)\n",
    "- non-linearity?\n",
    "- clustering?\n",
    "- Differences red and white wine?\n",
    "- outliers?\n",
    "    - 2 potential ones\n",
    "\n",
    "- Quantification!"
   ]
  },
  {
   "cell_type": "code",
   "execution_count": null,
   "metadata": {
    "collapsed": true
   },
   "outputs": [],
   "source": [
    "wine.to_csv(DATA_PATH + 'wines_transformed.csv', index=False)"
   ]
  },
  {
   "cell_type": "code",
   "execution_count": null,
   "metadata": {
    "collapsed": true
   },
   "outputs": [],
   "source": [
    "#some ranodm experiments by HH"
   ]
  },
  {
   "cell_type": "code",
   "execution_count": null,
   "metadata": {
    "collapsed": true
   },
   "outputs": [],
   "source": [
    "from scipy.cluster.hierarchy import dendrogram, linkage\n",
    "from scipy.cluster.hierarchy import cophenet\n",
    "from scipy.spatial.distance import pdist"
   ]
  },
  {
   "cell_type": "code",
   "execution_count": null,
   "metadata": {},
   "outputs": [],
   "source": [
    "wine.head()"
   ]
  },
  {
   "cell_type": "code",
   "execution_count": null,
   "metadata": {
    "collapsed": true
   },
   "outputs": [],
   "source": [
    "from sklearn.preprocessing import RobustScaler as rscaler"
   ]
  },
  {
   "cell_type": "code",
   "execution_count": null,
   "metadata": {
    "collapsed": true
   },
   "outputs": [],
   "source": [
    "RobScaler = rscaler()\n",
    "wine_sc = RobScaler.fit_transform(wine)"
   ]
  },
  {
   "cell_type": "code",
   "execution_count": null,
   "metadata": {
    "collapsed": true
   },
   "outputs": [],
   "source": [
    "from sklearn.manifold import MDS\n",
    "mds = MDS(n_components=3)\n",
    "mds_wines = mds.fit_transform(wine_sc)"
   ]
  },
  {
   "cell_type": "code",
   "execution_count": null,
   "metadata": {},
   "outputs": [],
   "source": [
    "from mpl_toolkits.mplot3d import Axes3D\n",
    "fig = plt.figure(figsize=(15,15))\n",
    "ax = fig.add_subplot(111, projection='3d')\n",
    "\n",
    "x = mds_wines[:,0]\n",
    "y = mds_wines[:,1]\n",
    "z = mds_wines[:,2]\n",
    "\n",
    "ax.scatter(x, y, z, c=wine['quality'], marker='o')\n",
    "\n",
    "ax.set_xlabel('X Label')\n",
    "ax.set_ylabel('Y Label')\n",
    "ax.set_zlabel('Z Label')\n",
    "\n",
    "plt.show()"
   ]
  },
  {
   "cell_type": "code",
   "execution_count": null,
   "metadata": {
    "scrolled": true
   },
   "outputs": [],
   "source": [
    "plt.scatter(mds_wines[:,0], mds_wines[:,1], c=wine['quality'])"
   ]
  },
  {
   "cell_type": "code",
   "execution_count": null,
   "metadata": {
    "collapsed": true
   },
   "outputs": [],
   "source": [
    "mds_vars = mds.fit_transform(wine_sc.T)"
   ]
  },
  {
   "cell_type": "code",
   "execution_count": null,
   "metadata": {},
   "outputs": [],
   "source": [
    "plt.scatter(mds_vars[:,0], mds_vars[:,1])"
   ]
  },
  {
   "cell_type": "code",
   "execution_count": null,
   "metadata": {},
   "outputs": [],
   "source": [
    "Z = linkage(wine2, 'average')\n",
    "c, coph_dists = cophenet(Z, pdist(wine2))\n",
    "c"
   ]
  },
  {
   "cell_type": "code",
   "execution_count": null,
   "metadata": {
    "scrolled": false
   },
   "outputs": [],
   "source": [
    "wine2"
   ]
  },
  {
   "cell_type": "code",
   "execution_count": null,
   "metadata": {},
   "outputs": [],
   "source": [
    "R = dendrogram(\n",
    "    Z,\n",
    "    leaf_rotation=90.,  # rotates the x axis labels\n",
    "    leaf_font_size=8.,  # font size for the x axis labels\n",
    ")"
   ]
  },
  {
   "cell_type": "code",
   "execution_count": null,
   "metadata": {
    "collapsed": true
   },
   "outputs": [],
   "source": [
    "labels = wine.columns\n",
    "temp = {R[\"leaves\"][ii]: labels[ii] for ii in range(len(R[\"leaves\"]))}\n",
    "def llf(xx):\n",
    "    return \"{}\".format(temp[xx])"
   ]
  },
  {
   "cell_type": "code",
   "execution_count": null,
   "metadata": {
    "scrolled": false
   },
   "outputs": [],
   "source": [
    "# calculate full dendrogram with LABELS\n",
    "plt.figure(figsize=(8, 4))\n",
    "plt.title('Hierarchical Clustering Dendrogram')\n",
    "plt.xlabel('sample index')\n",
    "plt.ylabel('distance')\n",
    "dendrogram(\n",
    "    Z,\n",
    "    leaf_label_func=llf,\n",
    "    leaf_rotation=90.,  # rotates the x axis labels\n",
    "    leaf_font_size=8.,  # font size for the x axis labels\n",
    ")\n",
    "plt.show()"
   ]
  },
  {
   "cell_type": "code",
   "execution_count": null,
   "metadata": {
    "collapsed": true
   },
   "outputs": [],
   "source": []
  },
  {
   "cell_type": "code",
   "execution_count": null,
   "metadata": {},
   "outputs": [],
   "source": []
  }
 ],
 "metadata": {
  "kernelspec": {
   "display_name": "Python 3",
   "language": "python",
   "name": "python3"
  },
  "language_info": {
   "codemirror_mode": {
    "name": "ipython",
    "version": 3
   },
   "file_extension": ".py",
   "mimetype": "text/x-python",
   "name": "python",
   "nbconvert_exporter": "python",
   "pygments_lexer": "ipython3",
   "version": "3.6.3"
  }
 },
 "nbformat": 4,
 "nbformat_minor": 2
}
